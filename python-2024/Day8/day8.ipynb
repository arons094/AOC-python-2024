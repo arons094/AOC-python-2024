{
 "cells": [
  {
   "cell_type": "code",
   "execution_count": 42,
   "metadata": {},
   "outputs": [],
   "source": [
    "# Read the file\n",
    "from collections import defaultdict\n",
    "\n",
    "coordinates = defaultdict(list)\n",
    "with open('input8.txt', 'r') as file:\n",
    "    for y, line in enumerate(file):\n",
    "        for x, char in enumerate(line.strip()):\n",
    "            if char != \".\":\n",
    "                coordinates[char].append((x, y))\n",
    "limits = x, y\n"
   ]
  },
  {
   "cell_type": "code",
   "execution_count": 43,
   "metadata": {},
   "outputs": [
    {
     "data": {
      "text/plain": [
       "(49, 49)"
      ]
     },
     "execution_count": 43,
     "metadata": {},
     "output_type": "execute_result"
    }
   ],
   "source": [
    "limits"
   ]
  },
  {
   "cell_type": "code",
   "execution_count": 2,
   "metadata": {},
   "outputs": [
    {
     "name": "stdout",
     "output_type": "stream",
     "text": [
      "{'f': [(0, 2), (1, 2), (2, 2), (3, 2), (4, 3), (5, 3), (6, 3), (7, 3), (9, 4), (9, 5), (9, 6), (10, 7), (10, 8), (10, 9), (11, 11), (11, 12), (12, 13), (12, 14), (13, 15), (13, 16), (13, 17), (14, 18), (14, 19), (15, 20), (15, 21), (15, 21), (16, 22), (16, 23), (17, 24), (17, 25), (17, 26), (18, 27), (18, 28), (19, 29)], '8': [(0, 26), (0, 25), (0, 24), (0, 23), (0, 22), (0, 21), (0, 20), (0, 19), (0, 18), (0, 17), (0, 16), (0, 15), (0, 14), (1, 13), (1, 14), (2, 15), (2, 16), (3, 17), (3, 18), (4, 19), (4, 19), (5, 20), (6, 21), (6, 20), (6, 19), (6, 18), (6, 17), (6, 16), (6, 15)], 'G': [(1, 0), (1, 1), (1, 2), (1, 3), (1, 4), (1, 5), (1, 6), (2, 7), (3, 7), (4, 7), (5, 7), (6, 7), (7, 7), (8, 7), (9, 7), (10, 7), (11, 7), (12, 7), (13, 7), (14, 7)], 'u': [(1, 16), (2, 16), (3, 16), (4, 16), (5, 16), (7, 17), (8, 18), (8, 19), (9, 20), (10, 21), (10, 22), (11, 23), (11, 24)], 'p': [(2, 12), (3, 13), (4, 13), (5, 14), (5, 15), (6, 15), (8, 16), (8, 15), (9, 14), (9, 13), (10, 12), (10, 11), (10, 10), (11, 9), (11, 8), (12, 7), (12, 6), (13, 6), (13, 7), (14, 8), (14, 9), (14, 10), (15, 11), (15, 12), (15, 13), (16, 14), (16, 15), (16, 16), (17, 17), (17, 18), (17, 19), (18, 20), (18, 20), (19, 21), (19, 22), (19, 23), (20, 24), (20, 25)], 'd': [(3, 6), (4, 6), (5, 6), (6, 6), (7, 6), (9, 7), (9, 8), (9, 9), (9, 10), (9, 11), (9, 12), (9, 13), (9, 14), (9, 15), (10, 17), (10, 18), (10, 19), (10, 20), (10, 21), (10, 22), (10, 23), (11, 24), (11, 25), (11, 26), (11, 27), (11, 28), (11, 29), (11, 30)], 'n': [(3, 27), (4, 26), (4, 25), (5, 24), (6, 23), (7, 22), (7, 21), (8, 20), (9, 20), (10, 19), (10, 20), (10, 21), (11, 22), (11, 23), (11, 24), (12, 25), (12, 26), (12, 27)], 'K': [(5, 36), (5, 35), (5, 34), (5, 33), (5, 32), (5, 31), (6, 30), (7, 30), (8, 30), (9, 30), (10, 31), (11, 31), (12, 31), (13, 31), (14, 31), (15, 32), (16, 32), (17, 32), (18, 32)], 'F': [(6, 17), (7, 16), (8, 14), (8, 13), (9, 12), (9, 11), (9, 10), (10, 9), (10, 8), (10, 7), (11, 6), (11, 5), (11, 4), (12, 3)], 'B': [(6, 27), (7, 26), (8, 25), (9, 25), (10, 26), (11, 26), (12, 27), (13, 27), (14, 27), (15, 28), (17, 28), (18, 27), (18, 26), (19, 25), (19, 24), (20, 23), (20, 23), (21, 22), (21, 21), (22, 20), (22, 19), (23, 18), (23, 17), (24, 17)], 'b': [(7, 4), (8, 4), (9, 5), (10, 5), (11, 6), (12, 6), (13, 7), (13, 7), (14, 8), (15, 8), (16, 9), (17, 9), (18, 10), (19, 10), (20, 11), (20, 11), (21, 12), (23, 13), (23, 14), (23, 15), (23, 16), (23, 17), (23, 18), (24, 19), (24, 18), (25, 17), (25, 16), (26, 15), (26, 14), (26, 13), (27, 12), (27, 11), (28, 10), (28, 10), (29, 9), (29, 8)], '4': [(8, 39), (8, 40), (9, 41), (9, 42), (10, 43), (10, 44), (10, 45), (11, 46), (12, 47), (13, 46), (13, 45), (14, 44), (15, 43), (16, 43), (17, 43)], '5': [(8, 44), (8, 43), (9, 42), (9, 41), (10, 39), (11, 38), (12, 38), (13, 38), (14, 38), (15, 38), (16, 38), (17, 38), (18, 38), (19, 38)], 'U': [(10, 10), (11, 9), (11, 8), (12, 7), (12, 6), (13, 5), (13, 5), (14, 4), (15, 2), (16, 1), (17, 1), (18, 0)], 'c': [(9, 36), (10, 36), (11, 36), (12, 36), (13, 36), (14, 36), (15, 37), (16, 37), (17, 37), (18, 37), (19, 37), (20, 37), (21, 37), (22, 38), (23, 38), (24, 38), (25, 38), (26, 38), (27, 38), (29, 38), (30, 37), (30, 36), (31, 35), (32, 34), (33, 35), (34, 35), (35, 36), (35, 37), (36, 37), (37, 38), (38, 39), (38, 39)], '0': [(10, 22), (11, 21), (11, 20), (12, 19), (13, 19), (14, 17), (15, 17), (16, 16), (17, 16), (18, 16), (19, 15), (21, 15), (21, 16), (21, 17), (21, 18), (21, 19), (21, 20), (21, 21), (21, 22), (22, 23), (22, 24), (22, 25), (22, 26), (22, 27), (22, 28), (22, 29), (22, 30)], 'Y': [(11, 3), (12, 3), (13, 3), (14, 4), (15, 4), (16, 4), (17, 5), (18, 5), (19, 5), (20, 6), (21, 6), (22, 6), (23, 7), (24, 7), (25, 7), (26, 8), (27, 8), (28, 8)], 'e': [(12, 37), (13, 36), (14, 36), (15, 35), (17, 35), (17, 36), (18, 37), (18, 38), (19, 39), (19, 40), (20, 41), (20, 42), (21, 42), (21, 43), (22, 44), (23, 45), (24, 45), (25, 45), (26, 45)], 'v': [(13, 19), (14, 18), (15, 18), (16, 17), (16, 16), (17, 16), (18, 15), (19, 14), (20, 14), (20, 15), (20, 16), (21, 17), (21, 18), (21, 19), (21, 20), (22, 21), (22, 22), (22, 23), (22, 24), (23, 25), (23, 26), (23, 27), (24, 28), (24, 27), (24, 26), (24, 25), (24, 24), (24, 23), (24, 22), (24, 21), (25, 20), (25, 19), (25, 18), (25, 17), (25, 16), (25, 15), (25, 14), (25, 13), (25, 12), (26, 11), (26, 10), (26, 9), (26, 8), (26, 7), (26, 6), (26, 5), (26, 4)], 's': [(14, 4), (15, 5), (16, 4), (17, 4), (18, 3), (18, 2), (19, 2), (21, 1)], 'S': [(15, 4), (15, 5), (15, 6), (15, 7), (15, 8), (15, 9), (15, 10), (15, 11), (15, 12), (15, 13), (15, 14), (15, 15), (15, 16), (15, 17), (15, 18), (15, 19), (15, 20), (15, 21), (16, 22), (17, 21), (17, 20), (18, 19), (19, 19), (19, 18), (20, 17), (21, 16), (21, 16), (22, 15), (22, 14), (23, 13), (24, 12), (24, 12), (25, 11), (26, 10), (26, 9), (27, 9), (27, 8), (29, 6), (30, 6), (31, 5), (32, 5), (33, 5), (34, 4), (35, 4), (36, 4), (37, 3), (38, 3), (39, 3), (40, 2)], 'g': [(15, 11), (16, 12), (16, 13), (17, 14), (18, 14), (19, 15), (19, 14), (19, 13), (19, 12), (19, 11), (19, 10), (19, 9), (20, 8), (21, 9), (21, 10), (22, 11), (22, 12), (23, 13), (23, 13), (24, 14), (24, 15), (25, 16), (25, 17), (26, 18), (26, 19), (27, 19)], 'D': [(15, 17), (16, 18), (16, 19), (17, 20), (17, 21), (18, 22), (18, 22), (19, 23), (20, 24), (21, 23), (21, 22), (22, 21), (23, 21), (23, 20), (24, 19), (25, 18), (26, 17)], 'w': [(16, 6), (17, 7), (18, 9), (18, 10), (18, 11), (18, 12), (19, 14), (20, 15), (20, 16), (21, 17), (21, 18), (22, 18), (23, 19), (23, 20), (24, 21), (24, 22), (25, 22), (25, 23), (26, 24), (27, 25), (27, 26), (28, 27), (28, 27), (29, 28), (29, 29), (30, 30), (31, 31), (31, 31), (32, 32), (32, 33), (33, 34), (34, 35), (34, 36), (35, 36), (35, 37), (36, 38), (36, 39), (37, 40), (38, 40), (38, 41), (39, 42), (39, 43), (40, 44)], 'A': [(18, 35), (19, 36), (20, 36), (21, 37), (23, 38), (25, 39), (26, 39), (27, 39), (28, 39)], '9': [(19, 12), (19, 11), (19, 10), (19, 9), (19, 8), (19, 7), (19, 6), (20, 5), (20, 6), (20, 7), (20, 8), (20, 9), (20, 10), (20, 11), (20, 12), (20, 13), (20, 14), (20, 15), (20, 16), (21, 17), (21, 16), (21, 15), (21, 14), (21, 13), (21, 12), (21, 11), (21, 10), (21, 9), (21, 8), (21, 7), (21, 6), (21, 5), (21, 4), (21, 3)], 'P': [(20, 20), (20, 21), (20, 22), (20, 23), (20, 24), (20, 25), (20, 26), (21, 27), (21, 26), (21, 25), (21, 24), (22, 22), (23, 22), (24, 21), (25, 21)], '2': [(23, 40), (24, 40), (25, 40), (26, 40), (27, 40), (28, 40), (29, 40), (30, 40), (31, 40), (32, 40), (34, 39), (35, 38), (37, 37), (38, 37), (39, 37), (40, 37)], 'V': [(24, 25), (25, 24), (27, 21), (27, 20), (27, 19), (28, 18), (28, 17), (28, 16)], '7': [(25, 7), (25, 8), (26, 9), (26, 10), (26, 11), (27, 12), (27, 13), (27, 14), (28, 15), (28, 16), (29, 17), (29, 16), (29, 15), (29, 14), (29, 13), (29, 12), (29, 11), (29, 10), (30, 9), (31, 10), (32, 10), (33, 11)], '6': [(26, 19), (27, 19), (28, 19), (29, 19), (30, 19), (31, 19), (32, 19), (33, 19), (34, 19), (35, 19), (36, 19), (38, 20), (39, 21), (39, 22), (40, 23), (40, 24), (41, 24), (42, 25), (43, 26), (43, 25), (44, 24), (44, 23), (45, 22), (45, 21), (45, 20), (46, 19)], 'q': [(26, 27), (27, 26), (27, 25), (28, 24), (28, 23), (29, 23), (30, 22), (31, 21), (31, 22), (31, 23), (32, 24), (32, 25), (32, 26), (33, 27), (33, 28), (33, 29)], 'y': [(28, 47), (28, 46), (28, 45), (28, 44), (29, 43), (29, 42), (29, 41), (29, 40), (29, 39), (30, 38), (30, 37), (30, 36), (30, 35), (31, 34), (31, 35), (32, 36), (32, 37), (33, 38), (33, 39), (34, 40), (34, 40), (35, 41), (36, 43), (37, 43), (38, 43), (39, 43), (40, 44), (41, 44), (42, 44), (43, 44)], 'W': [(29, 7), (30, 6), (31, 6), (32, 5), (33, 5), (33, 4), (34, 3), (36, 3), (36, 4), (36, 5), (37, 6), (38, 5), (39, 5), (40, 4), (40, 3), (41, 3), (42, 2), (43, 2), (44, 1), (44, 0)], 'N': [(30, 30), (30, 29), (30, 28), (30, 27), (30, 26), (30, 25), (30, 24), (32, 24), (33, 25), (33, 26), (34, 27)], 'C': [(34, 9), (36, 10), (36, 11), (37, 12), (37, 13), (37, 14), (38, 15), (39, 17), (40, 18), (40, 19), (41, 20), (42, 20)], '3': [(36, 11), (36, 12), (36, 13), (36, 14), (36, 15), (36, 16), (36, 17), (36, 18), (36, 19), (36, 20), (36, 21), (36, 22), (36, 23), (36, 24), (36, 25), (36, 26), (36, 27), (36, 28), (36, 29), (37, 30), (37, 29), (37, 28), (37, 27), (37, 26), (37, 25), (37, 24), (37, 23), (37, 22), (37, 21), (37, 20), (37, 19), (37, 18), (37, 17), (37, 16), (37, 15), (37, 14), (37, 13), (37, 12), (37, 11), (37, 10), (37, 9), (38, 7), (38, 6), (38, 5)], 'Q': [(36, 15), (36, 16), (37, 17), (37, 18), (38, 19), (38, 20), (39, 21), (39, 22), (40, 22), (40, 23), (41, 24), (42, 26), (42, 27), (42, 28), (42, 29), (42, 30), (42, 31), (42, 32), (42, 33), (43, 34), (44, 33), (44, 32), (45, 31), (46, 31)], 'a': [(36, 32), (37, 33), (38, 33), (39, 34), (40, 35), (40, 36), (41, 37), (41, 38), (41, 39), (42, 40), (43, 41), (43, 40), (43, 39), (43, 38), (43, 37), (44, 36), (44, 35), (44, 34), (44, 33), (44, 32)], '1': [(36, 33), (38, 33), (38, 32), (38, 31), (38, 30), (38, 29), (38, 28), (38, 27), (38, 26), (38, 25), (38, 24), (38, 23), (38, 22), (38, 21), (38, 20), (39, 19), (39, 20), (40, 21), (40, 22), (41, 23), (41, 24), (41, 25), (42, 26), (42, 27), (43, 28), (43, 28), (44, 29), (44, 30)], 'k': [(39, 40), (40, 41), (40, 42), (41, 43), (43, 42), (43, 41), (43, 40), (44, 39), (44, 38), (44, 37), (45, 36), (45, 35), (45, 34), (45, 33), (46, 32), (46, 31), (46, 30), (47, 29), (47, 28)], 'E': [(40, 0), (40, 1), (40, 2), (41, 3), (41, 4), (41, 5), (41, 6), (42, 7), (42, 8), (42, 9), (43, 10), (43, 11), (43, 12), (43, 13), (44, 14), (44, 15), (45, 16), (45, 15), (45, 14), (45, 13), (45, 12), (46, 10), (46, 9), (46, 8), (46, 7)]}\n"
     ]
    }
   ],
   "source": [
    "import numpy as np\n",
    "\n",
    "def find_equidistant_points(coord1, coord2):\n",
    "    # Calculate the distance between the two points\n",
    "    distance = np.linalg.norm(np.array(coord1) - np.array(coord2))\n",
    "    \n",
    "    # Calculate the direction vector from coord1 to coord2\n",
    "    direction = np.array(coord2) - np.array(coord1)\n",
    "    \n",
    "    # Normalize the direction vector\n",
    "    direction = direction / np.linalg.norm(direction)\n",
    "    \n",
    "    # Calculate the equidistant points\n",
    "    equidistant_points = []\n",
    "    for i in range(1, int(distance)):\n",
    "        new_point = np.array(coord1) + i * direction\n",
    "        equidistant_points.append(tuple(new_point.astype(int)))\n",
    "    \n",
    "    return equidistant_points\n",
    "\n",
    "# Dictionary to store the equidistant points for each key\n",
    "equidistant_points_dict = {}\n",
    "\n",
    "# Iterate through each key in the coordinates dictionary\n",
    "for key, coords in coordinates.items():\n",
    "    equidistant_points_dict[key] = []\n",
    "    for i in range(len(coords) - 1):\n",
    "        coord1 = coords[i]\n",
    "        coord2 = coords[i + 1]\n",
    "        equidistant_points = find_equidistant_points(coord1, coord2)\n",
    "        equidistant_points_dict[key].extend(equidistant_points)\n",
    "\n",
    "# Print the equidistant points dictionary\n",
    "print(equidistant_points_dict)"
   ]
  },
  {
   "cell_type": "code",
   "execution_count": 5,
   "metadata": {},
   "outputs": [
    {
     "name": "stdout",
     "output_type": "stream",
     "text": [
      "[(0, 2), (1, 2), (2, 2), (3, 2), (4, 3), (5, 3), (6, 3), (7, 3), (9, 4), (9, 5), (9, 6), (10, 7), (10, 8), (10, 9), (11, 11), (11, 12), (12, 13), (12, 14), (13, 15), (13, 16), (13, 17), (14, 18), (14, 19), (15, 20), (15, 21), (15, 21), (16, 22), (16, 23), (17, 24), (17, 25), (17, 26), (18, 27), (18, 28), (19, 29)]\n"
     ]
    }
   ],
   "source": [
    "print(equidistant_points_dict['f'])"
   ]
  },
  {
   "cell_type": "code",
   "execution_count": 20,
   "metadata": {},
   "outputs": [],
   "source": [
    "def get_slope(coord1, coord2):\n",
    "    # Calculate the slope\n",
    "    rise = coord2[0] - coord1[0]\n",
    "    run = coord2[1] - coord1[1]\n",
    "    return rise, run"
   ]
  },
  {
   "cell_type": "code",
   "execution_count": 9,
   "metadata": {},
   "outputs": [
    {
     "data": {
      "text/plain": [
       "(9, 2)"
      ]
     },
     "execution_count": 9,
     "metadata": {},
     "output_type": "execute_result"
    }
   ],
   "source": [
    "get_slope(coordinates['f'][0], coordinates['f'][1])"
   ]
  },
  {
   "cell_type": "code",
   "execution_count": 28,
   "metadata": {},
   "outputs": [
    {
     "data": {
      "text/plain": [
       "[]"
      ]
     },
     "execution_count": 28,
     "metadata": {},
     "output_type": "execute_result"
    }
   ],
   "source": [
    "coordinates['f']"
   ]
  },
  {
   "cell_type": "code",
   "execution_count": 48,
   "metadata": {},
   "outputs": [
    {
     "name": "stdout",
     "output_type": "stream",
     "text": [
      "Part 1 Answer: 295\n"
     ]
    }
   ],
   "source": [
    "from itertools import permutations\n",
    "\n",
    "antinodes = set()\n",
    "for freq, coords in coordinates.items():\n",
    "    #antinodes[freq] = []\n",
    "    for coord1, coord2 in permutations(coords, 2):\n",
    "        dx, dy = get_slope(coord1, coord2)\n",
    "        #dx, dy = coord2[0] - coord1[0], coord2[1] - coord1[1]\n",
    "        possible_node = coord1[0] - dx, coord1[1] - dy\n",
    "        if (0 <= possible_node[0] <= limits[0]) and (0 <= possible_node[1] <= limits[1]):\n",
    "            antinodes.add(possible_node)\n",
    "\n",
    "ans1 = len(antinodes)\n",
    "print(f\"Part 1 Answer: {ans1}\")"
   ]
  },
  {
   "cell_type": "code",
   "execution_count": 49,
   "metadata": {},
   "outputs": [
    {
     "name": "stdout",
     "output_type": "stream",
     "text": [
      "Part 1 Answer: 295\n"
     ]
    }
   ],
   "source": [
    "\n",
    "from itertools import permutations\n",
    "def is_within_limits(node, limits):\n",
    "    return (0 <= node[0] <= limits[0]) and (0 <= node[1] <= limits[1])\n",
    "\n",
    "def calculate_possible_node(coord1, coord2):\n",
    "    dx, dy = get_slope(coord1, coord2)\n",
    "    return coord1[0] - dx, coord1[1] - dy\n",
    "\n",
    "antinodes = set(\n",
    "    filter(\n",
    "        lambda node: is_within_limits(node, limits),\n",
    "        (calculate_possible_node(coord1, coord2) for freq, coords in coordinates.items() for coord1, coord2 in permutations(coords, 2))\n",
    "    )\n",
    ")\n",
    "\n",
    "ans1 = len(antinodes)\n",
    "print(f\"Part 1 Answer: {ans1}\")"
   ]
  },
  {
   "cell_type": "code",
   "execution_count": 16,
   "metadata": {},
   "outputs": [],
   "source": [
    "antinodes = {}\n",
    "for key, coords in coordinates.items():\n",
    "    antinodes[key] = []\n",
    "    for coord1, coord2 in itertools.combinations(coords, 2):\n",
    "        node1, node2 = get_antinodes(coord1, coord2)\n",
    "        if (node1 is not None) and (0 <= node1[0] < len(lines)) and (0 <= node1[1] < len(lines[0])):\n",
    "            antinodes[key].append(node1)\n",
    "        if (node2 is not None) and (0 <= node2[0] < len(lines)) and (0 <= node2[1] < len(lines[0])):\n",
    "            antinodes[key].append(node2)\n",
    "ans1 = sum(len(value) for value in antinodes.values())"
   ]
  },
  {
   "cell_type": "code",
   "execution_count": 35,
   "metadata": {},
   "outputs": [],
   "source": [
    "def part1(filename):\n",
    "    antennas = defaultdict(list)\n",
    "    with open(filename, 'r') as fp:\n",
    "        for y, line in enumerate(fp):\n",
    "            for x, ant in enumerate(line.strip()):\n",
    "                if ant != '.':\n",
    "                    antennas[ant].append((x, y))\n",
    "    limit = x, y\n",
    "\n",
    "    antinodes = set()\n",
    "    for freq in antennas:\n",
    "        for ant1, ant2 in permutations(antennas[freq], 2):\n",
    "            dx, dy = ant2[0] - ant1[0], ant2[1] - ant1[1]\n",
    "            pos = ant1[0] - dx, ant1[1] - dy\n",
    "            if (0 <= pos[0] <= limit[0]) and (0 <= pos[1] <= limit[1]):\n",
    "                antinodes.add(pos)\n",
    "                \n",
    "    answer = len(antinodes)\n",
    "    print(f\"Part 1: {answer}\")\n",
    "    return answer"
   ]
  },
  {
   "cell_type": "code",
   "execution_count": 37,
   "metadata": {},
   "outputs": [
    {
     "name": "stdout",
     "output_type": "stream",
     "text": [
      "Part 1: 295\n"
     ]
    },
    {
     "data": {
      "text/plain": [
       "295"
      ]
     },
     "execution_count": 37,
     "metadata": {},
     "output_type": "execute_result"
    }
   ],
   "source": [
    "part1('input8.txt')"
   ]
  },
  {
   "cell_type": "code",
   "execution_count": 38,
   "metadata": {},
   "outputs": [],
   "source": [
    "def part2(filename):\n",
    "    antennas = defaultdict(list)\n",
    "    with open(filename, 'r') as fp:\n",
    "        for y, line in enumerate(fp):\n",
    "            for x, ant in enumerate(line.strip()):\n",
    "                if ant != '.':\n",
    "                    antennas[ant].append((x, y))\n",
    "    limit = x, y\n",
    "\n",
    "    antinodes = set()\n",
    "    for freq in antennas:\n",
    "        for ant1, ant2 in permutations(antennas[freq], 2):\n",
    "            dx, dy = ant2[0] - ant1[0], ant2[1] - ant1[1]\n",
    "            pos = ant1\n",
    "            while True:\n",
    "                pos = pos[0] - dx, pos[1] - dy\n",
    "                if (0 <= pos[0] <= limit[0]) and (0 <= pos[1] <= limit[1]):\n",
    "                    antinodes.add(pos)\n",
    "                else:\n",
    "                    break\n",
    "            antinodes.add(ant1)\n",
    "\n",
    "    answer = len(antinodes)\n",
    "    print(f\"Part 2: {answer}\")\n",
    "    return answer"
   ]
  },
  {
   "cell_type": "code",
   "execution_count": 39,
   "metadata": {},
   "outputs": [
    {
     "name": "stdout",
     "output_type": "stream",
     "text": [
      "Part 2: 1034\n"
     ]
    },
    {
     "data": {
      "text/plain": [
       "1034"
      ]
     },
     "execution_count": 39,
     "metadata": {},
     "output_type": "execute_result"
    }
   ],
   "source": [
    "part2('input8.txt')"
   ]
  },
  {
   "cell_type": "code",
   "execution_count": 12,
   "metadata": {},
   "outputs": [],
   "source": [
    "\n",
    "def get_antinodes(coord1, coord2):\n",
    "    # Calculate the slope\n",
    "    rise, run = get_slope(coord1, coord2)\n",
    "    if rise > 0 and run > 0:\n",
    "        node1 = (coord1[0] - rise, coord1[1] - run)\n",
    "        node2 = (coord2[0] + rise, coord2[1] + run)\n",
    "    elif rise > 0 and run < 0:\n",
    "        node1 = (coord1[0] - rise, coord1[1] + run)\n",
    "        node2 = (coord2[0] + rise, coord2[1] - run)\n",
    "    elif rise < 0 and run > 0:\n",
    "        node1 = (coord1[0] + rise, coord1[1] - run)\n",
    "        node2 = (coord2[0] - rise, coord2[1] + run)\n",
    "    elif rise < 0 and run < 0:\n",
    "        node1 = (coord1[0] - rise, coord1[1] - run)\n",
    "        node2 = (coord2[0] + rise, coord2[1] + run)\n",
    "    elif rise == 0:\n",
    "        leftmost = lambda coord1, coord2: coord1 if coord1[0] < coord2[0] else coord2\n",
    "        rightmost = lambda coord1, coord2: coord1 if coord1[0] > coord2[0] else coord2\n",
    "        rise, run = get_slope(leftmost, rightmost)\n",
    "        node1 = (leftmost[0] - run, leftmost[1])\n",
    "        node2 = (rightmost[0] + run, rightmost[1])\n",
    "    elif run == 0:\n",
    "        topmost = lambda coord1, coord2: coord1 if coord1[0] < coord2[0] else coord2\n",
    "        bottommost = lambda coord1, coord2: coord1 if coord1[0] > coord2[0] else coord2\n",
    "        rise, run = get_slope(topmost, bottommost)\n",
    "        node1 = (topmost[0], topmost[1] - rise)\n",
    "        node2 = (bottommost[0], bottommost[1] + rise)\n",
    "    else:\n",
    "        raise ValueError('Invalid slope')\n",
    "    return node1, node2"
   ]
  },
  {
   "cell_type": "code",
   "execution_count": 19,
   "metadata": {},
   "outputs": [
    {
     "name": "stdout",
     "output_type": "stream",
     "text": [
      "....###....#\n",
      "\n",
      "...#....0...\n",
      "\n",
      "....#0....#.\n",
      "\n",
      "..#....0#...\n",
      "\n",
      "....0....#..\n",
      "\n",
      ".#....A##...\n",
      "\n",
      "...#.#......\n",
      "\n",
      "#......##...\n",
      "\n",
      "........A...\n",
      "\n",
      ".........A..\n",
      "\n",
      "..........#.\n",
      "\n",
      "..........#.\n"
     ]
    }
   ],
   "source": [
    "newlines = [list(line) for line in lines]\n",
    "for key, antinode_coords in antinodes.items():\n",
    "    for antinode in antinode_coords:\n",
    "        row, col = antinode\n",
    "        newlines[row][col] = \"#\"\n",
    "\n",
    "for line in newlines:\n",
    "    print(''.join(line))\n"
   ]
  },
  {
   "cell_type": "code",
   "execution_count": null,
   "metadata": {},
   "outputs": [],
   "source": [
    "antinodes = set()\n",
    "    for freq in antennas:\n",
    "        for ant1, ant2 in permutations(antennas[freq], 2):\n",
    "            dx, dy = ant2[0] - ant1[0], ant2[1] - ant1[1]\n",
    "            pos = ant1[0] - dx, ant1[1] - dy\n",
    "            if (0 <= pos[0] <= limit[0]) and (0 <= pos[1] <= limit[1]):\n",
    "                antinodes.add(pos)"
   ]
  },
  {
   "cell_type": "code",
   "execution_count": null,
   "metadata": {},
   "outputs": [],
   "source": [
    "files = {}\n",
    "freespace = {}\n",
    "for i, val in enumerate(diskline):\n",
    "    if i % 2 == 0:\n",
    "        files[i] = \"i\"*val\n",
    "    else:\n",
    "        freespace[i] = \".\"*val\n",
    "\n",
    "cur_max = max(list(files.keys()))\n",
    "n_max = len(files[cur_max])\n",
    "\n"
   ]
  },
  {
   "cell_type": "code",
   "execution_count": 50,
   "metadata": {},
   "outputs": [
    {
     "name": "stdout",
     "output_type": "stream",
     "text": [
      "6344673854800\n",
      "6360363199987\n"
     ]
    }
   ],
   "source": [
    "import sys\n",
    "import re\n",
    "from collections import defaultdict, Counter, deque\n",
    "\n",
    "sys.setrecursionlimit(10**6)\n",
    "infile = \"input9.txt\"\n",
    "p1 = 0\n",
    "p2 = 0\n",
    "D = open(infile).read().strip()\n",
    "\n",
    "def solve(part2):\n",
    "    A = deque([])\n",
    "    SPACE = deque([])\n",
    "    file_id = 0\n",
    "    FINAL = []\n",
    "    pos = 0\n",
    "    for i,c in enumerate(D):\n",
    "        if i%2==0:\n",
    "            if part2:\n",
    "                A.append((pos, int(c), file_id))\n",
    "            for i in range(int(c)):\n",
    "                FINAL.append(file_id)\n",
    "                if not part2:\n",
    "                    A.append((pos, 1, file_id))\n",
    "                pos += 1\n",
    "            file_id += 1\n",
    "        else:\n",
    "            SPACE.append((pos, int(c)))\n",
    "            for i in range(int(c)):\n",
    "                FINAL.append(None)\n",
    "                pos += 1\n",
    "\n",
    "    for (pos, sz, file_id) in reversed(A):\n",
    "        for space_i,(space_pos, space_sz) in enumerate(SPACE):\n",
    "            if space_pos < pos and sz <= space_sz:\n",
    "                for i in range(sz):\n",
    "                    assert FINAL[pos+i] == file_id, f'{FINAL[pos+i]=}'\n",
    "                    FINAL[pos+i] = None\n",
    "                    FINAL[space_pos+i] = file_id\n",
    "                SPACE[space_i] = (space_pos + sz, space_sz-sz)\n",
    "                break\n",
    "\n",
    "    ans = 0\n",
    "    for i,c in enumerate(FINAL):\n",
    "        if c is not None:\n",
    "            ans += i*c\n",
    "    return ans\n",
    "\n",
    "p1 = solve(False)\n",
    "p2 = solve(True)\n",
    "print(p1)\n",
    "print(p2)"
   ]
  },
  {
   "cell_type": "code",
   "execution_count": null,
   "metadata": {},
   "outputs": [
    {
     "name": "stdout",
     "output_type": "stream",
     "text": [
      "6344673854800\n"
     ]
    }
   ],
   "source": [
    "\n",
    "from collections import defaultdict, Counter, deque\n",
    "\n",
    "data = open(infile).read().strip()\n",
    "files = deque([])\n",
    "freespace = deque([])\n",
    "organized = []\n",
    "pos = 0\n",
    "file_id = 0\n",
    "\n",
    "#size = 1\n",
    "for i, val in enumerate(data):\n",
    "    if i % 2 == 0:\n",
    "        for i in range(int(val)):\n",
    "            organized.append(file_id)\n",
    "            files.append((pos, 1, file_id))\n",
    "            pos += 1\n",
    "        file_id += 1\n",
    "    else:\n",
    "        freespace.append((pos, int(val)))\n",
    "        for i in range(int(val)):\n",
    "            organized.append(None)\n",
    "            pos += 1\n",
    "\n",
    "for (pos, size, file_id) in reversed(files):\n",
    "    for free_i, (free_pos, free_size) in enumerate(freespace):\n",
    "        if free_pos < pos and size <= free_size:\n",
    "            for i in range(size):\n",
    "                assert organized[pos + i] == file_id, f'{organized[pos + i]=}'\n",
    "                organized[pos + i] = None\n",
    "                organized[free_pos + i] = file_id\n",
    "            freespace[free_i] = (free_pos + size, free_size - size)\n",
    "            break\n",
    "\n",
    "ans = 0\n",
    "for i, c in enumerate(organized):\n",
    "    if c is not None:\n",
    "        ans += i * c\n",
    "print(ans)"
   ]
  },
  {
   "cell_type": "code",
   "execution_count": 54,
   "metadata": {},
   "outputs": [
    {
     "name": "stdout",
     "output_type": "stream",
     "text": [
      "6344673854800\n"
     ]
    }
   ],
   "source": [
    "from collections import deque\n",
    "\n",
    "files = deque([])\n",
    "freespace = deque([])\n",
    "organized = []\n",
    "pos = 0\n",
    "file_id = 0\n",
    "\n",
    "for i, val in enumerate(D):\n",
    "    val = int(val)\n",
    "    if i % 2 == 0:\n",
    "        organized.extend([file_id] * val)\n",
    "        files.extend([(pos + j, 1, file_id) for j in range(val)])\n",
    "        pos += val\n",
    "        file_id += 1\n",
    "    else:\n",
    "        freespace.append((pos, val))\n",
    "        organized.extend([None] * val)\n",
    "        pos += val\n",
    "\n",
    "for (pos, size, file_id) in reversed(files):\n",
    "    for free_i, (free_pos, free_size) in enumerate(freespace):\n",
    "        if free_pos < pos and size <= free_size:\n",
    "            organized[pos:pos + size] = [None] * size\n",
    "            organized[free_pos:free_pos + size] = [file_id] * size\n",
    "            freespace[free_i] = (free_pos + size, free_size - size)\n",
    "            break\n",
    "\n",
    "ans = sum(i * c for i, c in enumerate(organized) if c is not None)\n",
    "print(ans)\n"
   ]
  },
  {
   "cell_type": "code",
   "execution_count": 57,
   "metadata": {},
   "outputs": [
    {
     "name": "stdout",
     "output_type": "stream",
     "text": [
      "6360363199987\n"
     ]
    }
   ],
   "source": [
    "from collections import deque\n",
    "\n",
    "files = deque()\n",
    "freespace = deque()\n",
    "organized = []\n",
    "pos = 0\n",
    "file_id = 0\n",
    "part2 = True\n",
    "# Populate files and freespace deques\n",
    "for i, val in enumerate(D):\n",
    "    val = int(val)\n",
    "    if i % 2 == 0:\n",
    "        if part2:\n",
    "            files.append((pos, val, file_id))\n",
    "        else:\n",
    "            files.extend((pos + j, 1, file_id) for j in range(val))\n",
    "        organized.extend([file_id] * val)\n",
    "        pos += val\n",
    "        file_id += 1\n",
    "    else:\n",
    "        freespace.append((pos, val))\n",
    "        organized.extend([None] * val)\n",
    "        pos += val\n",
    "\n",
    "# Function to move files to free space\n",
    "def move_files(files, freespace, organized):\n",
    "    while files:\n",
    "        pos, size, file_id = files.pop()\n",
    "        for free_i, (free_pos, free_size) in enumerate(freespace):\n",
    "            if free_pos < pos and size <= free_size:\n",
    "                organized[pos:pos + size] = [None] * size\n",
    "                organized[free_pos:free_pos + size] = [file_id] * size\n",
    "                freespace[free_i] = (free_pos + size, free_size - size)\n",
    "                break\n",
    "\n",
    "# Move files to free space\n",
    "move_files(files, freespace, organized)\n",
    "\n",
    "# Calculate the answer\n",
    "ans = sum(i * c for i, c in enumerate(organized) if c is not None)\n",
    "print(ans)"
   ]
  },
  {
   "cell_type": "code",
   "execution_count": null,
   "metadata": {},
   "outputs": [],
   "source": []
  }
 ],
 "metadata": {
  "kernelspec": {
   "display_name": ".venv",
   "language": "python",
   "name": "python3"
  },
  "language_info": {
   "codemirror_mode": {
    "name": "ipython",
    "version": 3
   },
   "file_extension": ".py",
   "mimetype": "text/x-python",
   "name": "python",
   "nbconvert_exporter": "python",
   "pygments_lexer": "ipython3",
   "version": "3.11.10"
  }
 },
 "nbformat": 4,
 "nbformat_minor": 2
}
