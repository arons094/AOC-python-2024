{
 "cells": [
  {
   "cell_type": "code",
   "execution_count": 1,
   "metadata": {},
   "outputs": [
    {
     "name": "stdout",
     "output_type": "stream",
     "text": [
      "RRRRIICCFF\n",
      "RRRRIICCCF\n",
      "VVRRRCCFFF\n",
      "VVRCCCJFFF\n",
      "VVVVCJJCFE\n",
      "VVIVCCJJEE\n",
      "VVIIICJJEE\n",
      "MIIIIIJJEE\n",
      "MIIISIJEEE\n",
      "MMMISSJEEE\n"
     ]
    }
   ],
   "source": [
    "with open(\"./test12.txt\", \"r\") as f:\n",
    "    grid = [[char for char in line.strip()] for line in f]\n",
    "\n",
    "for row in grid:\n",
    "    print(\"\".join(row))"
   ]
  },
  {
   "cell_type": "code",
   "execution_count": null,
   "metadata": {},
   "outputs": [],
   "source": [
    "plots = []\n",
    "for y, row in enumerate(grid):\n",
    "    for x, char in enumerate(row):\n",
    "        if char == \"#\":\n",
    "            plots.append((x, y))"
   ]
  },
  {
   "cell_type": "code",
   "execution_count": 4,
   "metadata": {},
   "outputs": [
    {
     "ename": "TypeError",
     "evalue": "unhashable type: 'set'",
     "output_type": "error",
     "traceback": [
      "\u001b[0;31m---------------------------------------------------------------------------\u001b[0m",
      "\u001b[0;31mTypeError\u001b[0m                                 Traceback (most recent call last)",
      "Cell \u001b[0;32mIn[4], line 33\u001b[0m\n\u001b[1;32m     30\u001b[0m                 regions\u001b[38;5;241m.\u001b[39madd((count, perimeter, points))\n\u001b[1;32m     31\u001b[0m     \u001b[38;5;28;01mreturn\u001b[39;00m regions\n\u001b[0;32m---> 33\u001b[0m regions \u001b[38;5;241m=\u001b[39m \u001b[43mcalculate_region_properties\u001b[49m\u001b[43m(\u001b[49m\u001b[43mgrid\u001b[49m\u001b[43m)\u001b[49m\n\u001b[1;32m     34\u001b[0m \u001b[38;5;28mprint\u001b[39m(regions)\n",
      "Cell \u001b[0;32mIn[4], line 30\u001b[0m, in \u001b[0;36mcalculate_region_properties\u001b[0;34m(grid)\u001b[0m\n\u001b[1;32m     28\u001b[0m             char \u001b[38;5;241m=\u001b[39m grid[y][x]\n\u001b[1;32m     29\u001b[0m             count, perimeter, points \u001b[38;5;241m=\u001b[39m dfs(x, y, char)\n\u001b[0;32m---> 30\u001b[0m             \u001b[43mregions\u001b[49m\u001b[38;5;241;43m.\u001b[39;49m\u001b[43madd\u001b[49m\u001b[43m(\u001b[49m\u001b[43m(\u001b[49m\u001b[43mcount\u001b[49m\u001b[43m,\u001b[49m\u001b[43m \u001b[49m\u001b[43mperimeter\u001b[49m\u001b[43m,\u001b[49m\u001b[43m \u001b[49m\u001b[43mpoints\u001b[49m\u001b[43m)\u001b[49m\u001b[43m)\u001b[49m\n\u001b[1;32m     31\u001b[0m \u001b[38;5;28;01mreturn\u001b[39;00m regions\n",
      "\u001b[0;31mTypeError\u001b[0m: unhashable type: 'set'"
     ]
    }
   ],
   "source": [
    "def calculate_region_properties(grid):\n",
    "    def dfs(x, y, char):\n",
    "        if x < 0 or x >= len(grid[0]) or y < 0 or y >= len(grid) or grid[y][x] != char:\n",
    "            return 0, 0\n",
    "        grid[y][x] = None  # Mark the cell as visited\n",
    "        points = set()\n",
    "        points.add((x, y, char))\n",
    "        count = 1\n",
    "        perimeter = 4 - sum(1 for dx, dy in [(-1, 0), (1, 0), (0, -1), (0, 1)] if 0 <= x + dx < len(grid[0]) and 0 <= y + dy < len(grid) and grid[y + dy][x + dx] == char)\n",
    "        for dx, dy in [(-1, 0), (1, 0), (0, -1), (0, 1)]:\n",
    "            nx, ny = x + dx, y + dy\n",
    "            if 0 <= nx < len(grid[0]) and 0 <= ny < len(grid):\n",
    "                if grid[ny][nx] == char:\n",
    "                    c, p, points = dfs(nx, ny, char)\n",
    "                    count += c\n",
    "                    perimeter += p\n",
    "                    points.add((nx, ny, char))\n",
    "                else:\n",
    "                    perimeter += 1\n",
    "            else:\n",
    "                perimeter += 1\n",
    "        return count, perimeter, points\n",
    "\n",
    "    regions = set()\n",
    "    for y in range(len(grid)):\n",
    "        for x in range(len(grid[0])):\n",
    "            if grid[y][x] is not None:\n",
    "                char = grid[y][x]\n",
    "                count, perimeter, points = dfs(x, y, char)\n",
    "                regions.add((count, perimeter, points))\n",
    "    return regions\n",
    "\n",
    "regions = calculate_region_properties(grid)\n",
    "print(regions)"
   ]
  },
  {
   "cell_type": "code",
   "execution_count": 10,
   "metadata": {},
   "outputs": [
    {
     "name": "stdout",
     "output_type": "stream",
     "text": [
      "Region with character 'R' has 12 points and a perimeter of 37 and cost of 444.\n",
      "Region with character 'I' has 4 points and a perimeter of 13 and cost of 52.\n",
      "Region with character 'C' has 14 points and a perimeter of 43 and cost of 602.\n",
      "Region with character 'F' has 10 points and a perimeter of 31 and cost of 310.\n",
      "Region with character 'V' has 13 points and a perimeter of 40 and cost of 520.\n",
      "Region with character 'J' has 11 points and a perimeter of 34 and cost of 374.\n",
      "Region with character 'C' has 1 points and a perimeter of 4 and cost of 4.\n",
      "Region with character 'E' has 13 points and a perimeter of 40 and cost of 520.\n",
      "Region with character 'I' has 14 points and a perimeter of 43 and cost of 602.\n",
      "Region with character 'M' has 5 points and a perimeter of 16 and cost of 80.\n",
      "Region with character 'S' has 3 points and a perimeter of 10 and cost of 30.\n"
     ]
    }
   ],
   "source": [
    "with open(\"./test12.txt\", \"r\") as f:\n",
    "    grid = [[char for char in line.strip()] for line in f]\n",
    "def calculate_region_properties(grid):\n",
    "    def dfs(x, y, char):\n",
    "        if x < 0 or x >= len(grid[0]) or y < 0 or y >= len(grid) or grid[y][x] != char:\n",
    "            return 0, 0\n",
    "        grid[y][x] = None  # Mark the cell as visited\n",
    "        count = 1\n",
    "        perimeter = 0\n",
    "        for dx, dy in [(-1, 0), (1, 0), (0, -1), (0, 1)]:\n",
    "            nx, ny = x + dx, y + dy\n",
    "            if 0 <= nx < len(grid[0]) and 0 <= ny < len(grid):\n",
    "                if grid[ny][nx] == char:\n",
    "                    c, p = dfs(nx, ny, char)\n",
    "                    count += c\n",
    "                    perimeter += p\n",
    "                else:\n",
    "                    perimeter += 1\n",
    "            else:\n",
    "                perimeter += 1\n",
    "        return count, perimeter\n",
    "\n",
    "    regions = []\n",
    "    for y in range(len(grid)):\n",
    "        for x in range(len(grid[0])):\n",
    "            if grid[y][x] is not None:\n",
    "                char = grid[y][x]\n",
    "                count, perimeter = dfs(x, y, char)\n",
    "                regions.append((count, perimeter, char))\n",
    "    return regions\n",
    "\n",
    "regions = calculate_region_properties(grid)\n",
    "for region in regions:\n",
    "    count, perimeter, char = region\n",
    "    print(f\"Region with character '{char}' has {count} points and a perimeter of {perimeter} and cost of {count * perimeter}.\")"
   ]
  },
  {
   "cell_type": "code",
   "execution_count": 11,
   "metadata": {},
   "outputs": [
    {
     "name": "stdout",
     "output_type": "stream",
     "text": [
      "Region with character 'R' has 12 points and a perimeter of 33 and cost of 396.\n",
      "Region with character 'I' has 4 points and a perimeter of 12 and cost of 48.\n",
      "Region with character 'C' has 14 points and a perimeter of 42 and cost of 588.\n",
      "Region with character 'F' has 10 points and a perimeter of 29 and cost of 290.\n",
      "Region with character 'V' has 13 points and a perimeter of 36 and cost of 468.\n",
      "Region with character 'J' has 11 points and a perimeter of 32 and cost of 352.\n",
      "Region with character 'C' has 1 points and a perimeter of 4 and cost of 4.\n",
      "Region with character 'E' has 13 points and a perimeter of 35 and cost of 455.\n",
      "Region with character 'I' has 14 points and a perimeter of 39 and cost of 546.\n",
      "Region with character 'M' has 5 points and a perimeter of 16 and cost of 80.\n",
      "Region with character 'S' has 3 points and a perimeter of 10 and cost of 30.\n"
     ]
    }
   ],
   "source": [
    "with open(\"./test12.txt\", \"r\") as f:\n",
    "    grid = [[char for char in line.strip()] for line in f]\n",
    "def calculate_region_properties(grid):\n",
    "    def dfs(x, y, char):\n",
    "        if x < 0 or x >= len(grid[0]) or y < 0 or y >= len(grid) or grid[y][x] != char:\n",
    "            return 0, 0\n",
    "        grid[y][x] = None  # Mark the cell as visited\n",
    "        count = 1\n",
    "        adjacent_same_char = sum(1 for dx, dy in [(-1, 0), (1, 0), (0, -1), (0, 1)] if 0 <= x + dx < len(grid[0]) and 0 <= y + dy < len(grid) and grid[y + dy][x + dx] == char)\n",
    "        perimeter = 4 - adjacent_same_char\n",
    "        for dx, dy in [(-1, 0), (1, 0), (0, -1), (0, 1)]:\n",
    "            nx, ny = x + dx, y + dy\n",
    "            if 0 <= nx < len(grid[0]) and 0 <= ny < len(grid):\n",
    "                if grid[ny][nx] == char:\n",
    "                    c, p = dfs(nx, ny, char)\n",
    "                    count += c\n",
    "                    perimeter += p\n",
    "        return count, perimeter\n",
    "\n",
    "    regions = []\n",
    "    for y in range(len(grid)):\n",
    "        for x in range(len(grid[0])):\n",
    "            if grid[y][x] is not None:\n",
    "                char = grid[y][x]\n",
    "                count, perimeter = dfs(x, y, char)\n",
    "                regions.append((count, perimeter, char))\n",
    "    return regions\n",
    "\n",
    "regions = calculate_region_properties(grid)\n",
    "for region in regions:\n",
    "    count, perimeter, char = region\n",
    "    print(f\"Region with character '{char}' has {count} points and a perimeter of {perimeter} and cost of {count * perimeter}.\")"
   ]
  },
  {
   "cell_type": "code",
   "execution_count": 21,
   "metadata": {},
   "outputs": [
    {
     "name": "stdout",
     "output_type": "stream",
     "text": [
      "Part 1: 1533024\n",
      "Part 2: 910066\n"
     ]
    }
   ],
   "source": [
    "\n",
    "with open('input12.txt', 'r') as f:\n",
    "    lines = f.read().splitlines()\n",
    "\n",
    "grid = {}\n",
    "for y, line in enumerate(lines):\n",
    "    for x, c in enumerate(line):\n",
    "        grid[x + y * 1j] = c\n",
    "\n",
    "def flood_fill(grid, start):\n",
    "    region = set([start])\n",
    "    symbol = grid[start]\n",
    "    queue = [start]\n",
    "    while queue:\n",
    "        pos = queue.pop()\n",
    "        for d in [1, -1, 1j, -1j]:\n",
    "            new_pos = pos + d\n",
    "            if new_pos in grid and new_pos not in region and grid[new_pos] == symbol:\n",
    "                region.add(new_pos)\n",
    "                queue.append(new_pos)\n",
    "    return region\n",
    "\n",
    "\n",
    "regions = []\n",
    "\n",
    "uncovered = set(grid.keys())\n",
    "while len(uncovered) > 0:\n",
    "    start = uncovered.pop()\n",
    "    region = flood_fill(grid, start)\n",
    "    uncovered -= region\n",
    "    regions.append((grid[start], region))\n",
    "\n",
    "def get_area(region):\n",
    "    return len(region[1])\n",
    "\n",
    "def get_perimeter(region):\n",
    "    perimeter = 0\n",
    "    for pos in region[1]:\n",
    "        for d in [1, -1, 1j, -1j]:\n",
    "            new_pos = pos + d\n",
    "            if new_pos not in region[1]:\n",
    "                perimeter += 1\n",
    "    return perimeter\n",
    "\n",
    "price = 0\n",
    "for region in regions:\n",
    "    area, perimeter = get_area(region), get_perimeter(region)\n",
    "    price += area * perimeter\n",
    "\n",
    "print(\"Part 1:\", price)\n",
    "\n",
    "def get_sides_count(region):\n",
    "    perimeter_objects = set()\n",
    "    for pos in region[1]:\n",
    "        for d in [1, -1, 1j, -1j]:\n",
    "            new_pos = pos + d\n",
    "            if new_pos not in region[1]:\n",
    "                perimeter_objects.add((new_pos, d))\n",
    "    \n",
    "    distinct_sides = 0\n",
    "    while len(perimeter_objects) > 0:\n",
    "        pos, d = perimeter_objects.pop()\n",
    "        distinct_sides += 1\n",
    "        next = pos + d * 1j\n",
    "        while (next, d) in perimeter_objects:\n",
    "            perimeter_objects.remove((next, d))\n",
    "            next += d * 1j\n",
    "        next = pos + d * -1j\n",
    "        while (next, d) in perimeter_objects:\n",
    "            perimeter_objects.remove((next, d))\n",
    "            next += d * -1j\n",
    "    return distinct_sides\n",
    "\n",
    "price = 0\n",
    "for region in regions:\n",
    "    area, sides = get_area(region), get_sides_count(region)\n",
    "    price += area * sides\n",
    "    \n",
    "print(\"Part 2:\", price)\n"
   ]
  },
  {
   "cell_type": "code",
   "execution_count": 42,
   "metadata": {},
   "outputs": [
    {
     "ename": "SyntaxError",
     "evalue": "unmatched ']' (1878738290.py, line 6)",
     "output_type": "error",
     "traceback": [
      "\u001b[0;36m  Cell \u001b[0;32mIn[42], line 6\u001b[0;36m\u001b[0m\n\u001b[0;31m    if new_pos not in region]:\u001b[0m\n\u001b[0m                            ^\u001b[0m\n\u001b[0;31mSyntaxError\u001b[0m\u001b[0;31m:\u001b[0m unmatched ']'\n"
     ]
    }
   ],
   "source": [
    "\n",
    "def get_sides_count(region):\n",
    "    perimeter_objects = set()\n",
    "    for pos in region[1]:\n",
    "        for d in [1, -1, 1j, -1j]:\n",
    "            new_pos = pos + d\n",
    "            if new_pos not in region]:\n",
    "                perimeter_objects.add((new_pos, d))\n",
    "    sides = 0\n",
    "    for plot in perimeter_objects:\n",
    "        n_corners = sum(1 for d in [1, -1, 1j, -1j] if (plot[0] + d) not in region[1])\n",
    "        sides += n_corners\n",
    "    return sides\n",
    "\n",
    "price = 0\n",
    "for region in regions:\n",
    "    area, sides = get_area(region), get_sides_count(region)\n",
    "    price += area * sides\n",
    "    \n",
    "print(\"Part 2:\", price)"
   ]
  },
  {
   "cell_type": "code",
   "execution_count": null,
   "metadata": {},
   "outputs": [],
   "source": []
  },
  {
   "cell_type": "code",
   "execution_count": null,
   "metadata": {},
   "outputs": [],
   "source": []
  },
  {
   "cell_type": "code",
   "execution_count": 70,
   "metadata": {},
   "outputs": [],
   "source": [
    "\n",
    "with open('test12.txt', 'r') as f:\n",
    "    lines = f.read().splitlines()\n",
    "\n",
    "grid = [[c for c in line] for line in lines]\n",
    "\n",
    "def flood_fill(grid, start):\n",
    "    region = set([start])\n",
    "    symbol = grid[start[0]][start[1]]\n",
    "    queue = [start]\n",
    "\n",
    "    while queue:\n",
    "        pos = queue.pop(0)\n",
    "        for dy, dx in [(-1, 0), (1, 0), (0, -1), (0, 1)]:\n",
    "            new_pos = (pos[0] + dy, pos[1] + dx)\n",
    "            if 0 <= new_pos[0] < len(grid) and 0 <= new_pos[1] < len(grid[0]) and new_pos not in region:\n",
    "                if grid[new_pos[0]][new_pos[1]] == symbol:\n",
    "                    queue.append(new_pos)\n",
    "                    region.add(new_pos)\n",
    "    return region\n",
    "\n",
    "get_area = lambda region: len(region[1])\n",
    "def get_perimeter(region):\n",
    "    perimeter = 0\n",
    "    for pos in region[1]:\n",
    "        for dy, dx in [(-1, 0), (1, 0), (0, -1), (0, 1)]:\n",
    "            new_pos = (pos[0] + dy, pos[1] + dx)\n",
    "            #if 0 <= new_pos[0] < len(grid) and 0 <= new_pos[1] < len(grid[0]) and new_pos not in region[1]:\n",
    "            if new_pos not in region[1]:\n",
    "                perimeter += 1\n",
    "    return perimeter\n",
    "\n",
    "def get_corners(region):\n",
    "    perimeter = 0\n",
    "    for pos in region[1]:\n",
    "        for dy, dx in [(-1, 0), (1, 0), (0, -1), (0, 1)]:\n",
    "            new_pos = (pos[0] + dy, pos[1] + dx)\n",
    "            if new_pos not in region[1]:\n",
    "                perimeter += 1\n",
    "    return perimeter\n",
    "regions = []\n",
    "uncovered = set((y, x) for y in range(len(grid)) for x in range(len(grid[0])))\n",
    "\n",
    "while len(uncovered) > 0:\n",
    "    start = uncovered.pop()\n",
    "    region = flood_fill(grid, start)\n",
    "    uncovered -= set(region)\n",
    "    regions.append(((grid[start[0]][start[1]]), region))\n"
   ]
  },
  {
   "cell_type": "code",
   "execution_count": null,
   "metadata": {},
   "outputs": [],
   "source": [
    "def get_corners(region):\n",
    "    corners = 0\n",
    "    for pos in region[1]:\n",
    "        surround = {(-1, 0): 0, (1, 0): 0, (0, -1):0, (0, 1): 0}\n",
    "        for dy, dx in [(-1, 0), (1, 0), (0, -1), (0, 1)]:\n",
    "            new_pos = (pos[0] + dy, pos[1] + dx)\n",
    "            if new_pos not in region[1]:\n",
    "                surround[(dy, dx)] = 1\n",
    "        if sum(surround.values()) == 4:\n",
    "            corners += 4\n",
    "        elif sum(surround.values()) == 3:\n",
    "            corners += 2\n",
    "        elif sum(surround.values()) == 2:\n",
    "            if surround[(1, 0)] == 1 or surround[(-1, 0)] == 1:\n",
    "                if surround[(0, 1)] == 1 or surround[(0, -1)] == 1:\n",
    "                    corners += 1\n",
    "\n",
    "            \n",
    "    return corners"
   ]
  },
  {
   "cell_type": "code",
   "execution_count": null,
   "metadata": {},
   "outputs": [],
   "source": []
  },
  {
   "cell_type": "code",
   "execution_count": 73,
   "metadata": {},
   "outputs": [
    {
     "name": "stdout",
     "output_type": "stream",
     "text": [
      "Region with character 'V' has 13 points and a perimeter of 20 and cost of 260.\n",
      "Region with character 'E' has 13 points and a perimeter of 18 and cost of 234.\n",
      "Region with character 'M' has 5 points and a perimeter of 12 and cost of 60.\n",
      "Region with character 'I' has 4 points and a perimeter of 8 and cost of 32.\n",
      "Region with character 'R' has 12 points and a perimeter of 18 and cost of 216.\n",
      "Region with character 'I' has 14 points and a perimeter of 22 and cost of 308.\n",
      "Region with character 'J' has 11 points and a perimeter of 20 and cost of 220.\n",
      "Region with character 'C' has 14 points and a perimeter of 28 and cost of 392.\n",
      "Region with character 'F' has 10 points and a perimeter of 18 and cost of 180.\n",
      "Region with character 'S' has 3 points and a perimeter of 8 and cost of 24.\n",
      "Region with character 'C' has 1 points and a perimeter of 4 and cost of 4.\n",
      "Part 1: 1930\n",
      "Region with character 'V' has 13 points and 7 corners and cost of 91.\n",
      "Region with character 'E' has 13 points and 6 corners and cost of 78.\n",
      "Region with character 'M' has 5 points and 5 corners and cost of 25.\n",
      "Region with character 'I' has 4 points and 4 corners and cost of 16.\n",
      "Region with character 'R' has 12 points and 7 corners and cost of 84.\n",
      "Region with character 'I' has 14 points and 10 corners and cost of 140.\n",
      "Region with character 'J' has 11 points and 8 corners and cost of 88.\n",
      "Region with character 'C' has 14 points and 13 corners and cost of 182.\n",
      "Region with character 'F' has 10 points and 8 corners and cost of 80.\n",
      "Region with character 'S' has 3 points and 5 corners and cost of 15.\n",
      "Region with character 'C' has 1 points and 4 corners and cost of 4.\n",
      "Part 2: 803\n"
     ]
    }
   ],
   "source": [
    "price = 0\n",
    "for region in regions:\n",
    "    area, perimeter  = get_area(region), get_perimeter(region)\n",
    "    print(f\"Region with character '{region[0]}' has {area} points and a perimeter of {perimeter} and cost of {area * perimeter}.\")\n",
    "    price += area * perimeter\n",
    "print(\"Part 1:\", price)\n",
    "\n",
    "price = 0\n",
    "for region in regions:\n",
    "    area, corners = get_area(region), get_corners(region)\n",
    "    print(f\"Region with character '{region[0]}' has {area} points and {corners} corners and cost of {area * corners}.\")\n",
    "    price += area * corners\n",
    "print(\"Part 2:\", price)"
   ]
  },
  {
   "cell_type": "code",
   "execution_count": 74,
   "metadata": {},
   "outputs": [
    {
     "data": {
      "text/plain": [
       "[('V',\n",
       "  {(2, 0),\n",
       "   (2, 1),\n",
       "   (3, 0),\n",
       "   (3, 1),\n",
       "   (4, 0),\n",
       "   (4, 1),\n",
       "   (4, 2),\n",
       "   (4, 3),\n",
       "   (5, 0),\n",
       "   (5, 1),\n",
       "   (5, 3),\n",
       "   (6, 0),\n",
       "   (6, 1)}),\n",
       " ('E',\n",
       "  {(4, 9),\n",
       "   (5, 8),\n",
       "   (5, 9),\n",
       "   (6, 8),\n",
       "   (6, 9),\n",
       "   (7, 8),\n",
       "   (7, 9),\n",
       "   (8, 7),\n",
       "   (8, 8),\n",
       "   (8, 9),\n",
       "   (9, 7),\n",
       "   (9, 8),\n",
       "   (9, 9)}),\n",
       " ('M', {(7, 0), (8, 0), (9, 0), (9, 1), (9, 2)}),\n",
       " ('I', {(0, 4), (0, 5), (1, 4), (1, 5)}),\n",
       " ('R',\n",
       "  {(0, 0),\n",
       "   (0, 1),\n",
       "   (0, 2),\n",
       "   (0, 3),\n",
       "   (1, 0),\n",
       "   (1, 1),\n",
       "   (1, 2),\n",
       "   (1, 3),\n",
       "   (2, 2),\n",
       "   (2, 3),\n",
       "   (2, 4),\n",
       "   (3, 2)}),\n",
       " ('I',\n",
       "  {(5, 2),\n",
       "   (6, 2),\n",
       "   (6, 3),\n",
       "   (6, 4),\n",
       "   (7, 1),\n",
       "   (7, 2),\n",
       "   (7, 3),\n",
       "   (7, 4),\n",
       "   (7, 5),\n",
       "   (8, 1),\n",
       "   (8, 2),\n",
       "   (8, 3),\n",
       "   (8, 5),\n",
       "   (9, 3)}),\n",
       " ('J',\n",
       "  {(3, 6),\n",
       "   (4, 5),\n",
       "   (4, 6),\n",
       "   (5, 6),\n",
       "   (5, 7),\n",
       "   (6, 6),\n",
       "   (6, 7),\n",
       "   (7, 6),\n",
       "   (7, 7),\n",
       "   (8, 6),\n",
       "   (9, 6)}),\n",
       " ('C',\n",
       "  {(0, 6),\n",
       "   (0, 7),\n",
       "   (1, 6),\n",
       "   (1, 7),\n",
       "   (1, 8),\n",
       "   (2, 5),\n",
       "   (2, 6),\n",
       "   (3, 3),\n",
       "   (3, 4),\n",
       "   (3, 5),\n",
       "   (4, 4),\n",
       "   (5, 4),\n",
       "   (5, 5),\n",
       "   (6, 5)}),\n",
       " ('F',\n",
       "  {(0, 8),\n",
       "   (0, 9),\n",
       "   (1, 9),\n",
       "   (2, 7),\n",
       "   (2, 8),\n",
       "   (2, 9),\n",
       "   (3, 7),\n",
       "   (3, 8),\n",
       "   (3, 9),\n",
       "   (4, 8)}),\n",
       " ('S', {(8, 4), (9, 4), (9, 5)}),\n",
       " ('C', {(4, 7)})]"
      ]
     },
     "execution_count": 74,
     "metadata": {},
     "output_type": "execute_result"
    }
   ],
   "source": [
    "regions"
   ]
  },
  {
   "cell_type": "code",
   "execution_count": null,
   "metadata": {},
   "outputs": [],
   "source": []
  },
  {
   "cell_type": "code",
   "execution_count": null,
   "metadata": {},
   "outputs": [
    {
     "name": "stdout",
     "output_type": "stream",
     "text": [
      "Part 1: 1533024\n",
      "Part 2: 910066\n"
     ]
    }
   ],
   "source": [
    "import numpy as np\n",
    "from scipy.ndimage import label\n",
    "from scipy.signal import convolve2d\n",
    "\n",
    "#Read garden in as a numpy array\n",
    "G = np.array([list(l.strip()) for l in open('input12.txt')])\n",
    "\n",
    "#Init counters for Part1 and Part2 answers\n",
    "ans = np.array([0,0])\n",
    "\n",
    "#Iterate over each group of contiguous plants\n",
    "for L, n in [label(G == g) for g in np.unique(G)]:\n",
    "    for i in range(n):\n",
    "        H = (L == i+1)\n",
    "\n",
    "        #Apply convolution to find edges and corners, Non-Zero elements indicate presence of edge/corner\n",
    "        v = np.count_nonzero(convolve2d(H, [[1,-1]]))\n",
    "        h = np.count_nonzero(convolve2d(H, [[1],[-1]]))\n",
    "        x = abs(convolve2d(H, [[-1,1],[1,-1]]))\n",
    "\n",
    "        #Increment answers by area of group * [perimeter , corners]\n",
    "        ans += H.sum() * np.array([h+v, x.sum()])\n",
    "\n",
    "print(f\"Part 1: {ans[0]}\")\n",
    "print(f\"Part 2: {ans[1]}\")"
   ]
  },
  {
   "cell_type": "code",
   "execution_count": 101,
   "metadata": {},
   "outputs": [
    {
     "data": {
      "text/plain": [
       "<matplotlib.image.AxesImage at 0x1350e7790>"
      ]
     },
     "execution_count": 101,
     "metadata": {},
     "output_type": "execute_result"
    },
    {
     "data": {
      "image/png": "[encoded data removed]",
      "text/plain": [
       "<Figure size 640x480 with 1 Axes>"
      ]
     },
     "metadata": {},
     "output_type": "display_data"
    }
   ],
   "source": [
    "\n",
    "plt.imshow(x, cmap='tab20')"
   ]
  },
  {
   "cell_type": "code",
   "execution_count": 95,
   "metadata": {},
   "outputs": [
    {
     "data": {
      "image/png": "[encoded data removed]",
      "text/plain": [
       "<Figure size 640x480 with 2 Axes>"
      ]
     },
     "metadata": {},
     "output_type": "display_data"
    }
   ],
   "source": [
    "import matplotlib.pyplot as plt\n",
    "\n",
    "# Label the regions where G == 'X'\n",
    "#L, n = label(G == 'X')\n",
    "\n",
    "# Display the labeled regions as an image\n",
    "plt.imshow(L, cmap='tab20')\n",
    "plt.colorbar()\n",
    "plt.title(\"Labeled regions where G == 'X'\")\n",
    "plt.show()"
   ]
  },
  {
   "cell_type": "code",
   "execution_count": 114,
   "metadata": {},
   "outputs": [
    {
     "data": {
      "image/png": "[encoded data removed]",
      "text/plain": [
       "<Figure size 640x480 with 2 Axes>"
      ]
     },
     "metadata": {},
     "output_type": "display_data"
    }
   ],
   "source": [
    "\n",
    "from scipy.ndimage import label\n",
    "from scipy.signal import convolve2d\n",
    "\n",
    "import matplotlib.pyplot as plt\n",
    "\n",
    "# Label the regions where G == 'X'\n",
    "L, n = label(G == 'X')\n",
    "\n",
    "# Select one of the labeled regions\n",
    "region_index = 5  # Change this index to display different regions\n",
    "H = (L == region_index)\n",
    "\n",
    "# Perform 2D convolution\n",
    "convolved_H = convolve2d(H, [[1, -1], [1, -1]])\n",
    "sub_H = H[10:30, 5:25]\n",
    "conv_sub_H = convolved_H[10:30, 5:25]\n",
    "# Display the original region\n",
    "plt.subplot(1, 2, 1)\n",
    "plt.imshow(sub_H, cmap='gray')\n",
    "plt.title(\"Original Region\")\n",
    "\n",
    "# Display the convolved region\n",
    "plt.subplot(1, 2, 2)\n",
    "plt.imshow(conv_sub_H, cmap='gray')\n",
    "\n",
    "plt.title(\"Convolved Region\")\n",
    "\n",
    "plt.show()"
   ]
  },
  {
   "cell_type": "code",
   "execution_count": 117,
   "metadata": {},
   "outputs": [
    {
     "name": "stderr",
     "output_type": "stream",
     "text": [
      "/var/folders/__/_vxw12qx36xgzk1qzy21bbtm0000gp/T/ipykernel_88913/2102641279.py:27: UserWarning: Tight layout not applied. The left and right margins cannot be made large enough to accommodate all Axes decorations.\n",
      "  plt.tight_layout(rect=[0, 0, 0, 0.96])\n"
     ]
    },
    {
     "data": {
      "image/png": "[encoded data removed]",
      "text/plain": [
       "<Figure size 1000x800 with 4 Axes>"
      ]
     },
     "metadata": {},
     "output_type": "display_data"
    }
   ],
   "source": [
    "plt.figure(figsize=(10, 8))\n",
    "plt.suptitle(\"Convolution Analysis of Garden Region\", fontsize=16)\n",
    "\n",
    "horizontal_convolution = convolve2d(H, [[1, -1]])\n",
    "vertical_convolution = convolve2d(H, [[1], [-1]])\n",
    "\n",
    "# Display the original region\n",
    "plt.subplot(2, 2, 1)\n",
    "plt.imshow(sub_H, cmap='gray')\n",
    "plt.title(\"Garden Region\", fontsize=10)\n",
    "\n",
    "# Display the convolved region\n",
    "plt.subplot(2, 2, 2)\n",
    "plt.imshow(conv_sub_H, cmap='gray')\n",
    "plt.title(\"Corners Convolution\", fontsize=10)\n",
    "\n",
    "# Display the horizontal convolution\n",
    "plt.subplot(2, 2, 3)\n",
    "plt.imshow(horizontal_convolution[10:30, 5:25], cmap='gray')\n",
    "plt.title(\"Vertical Convolution\", fontsize=10)\n",
    "\n",
    "# Display the vertical convolution\n",
    "plt.subplot(2, 2, 4)\n",
    "plt.imshow(vertical_convolution[10:30, 5:25], cmap='gray')\n",
    "plt.title(\"Horizontal Convolution\", fontsize=10)\n",
    "\n",
    "plt.tight_layout(rect=[0, 0, 0, 0.96])\n",
    "plt.show()"
   ]
  },
  {
   "cell_type": "code",
   "execution_count": null,
   "metadata": {},
   "outputs": [],
   "source": []
  }
 ],
 "metadata": {
  "kernelspec": {
   "display_name": ".venv",
   "language": "python",
   "name": "python3"
  },
  "language_info": {
   "codemirror_mode": {
    "name": "ipython",
    "version": 3
   },
   "file_extension": ".py",
   "mimetype": "text/x-python",
   "name": "python",
   "nbconvert_exporter": "python",
   "pygments_lexer": "ipython3",
   "version": "3.11.10"
  }
 },
 "nbformat": 4,
 "nbformat_minor": 2
}
