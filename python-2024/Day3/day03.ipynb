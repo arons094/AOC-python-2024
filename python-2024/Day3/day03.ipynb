{
 "cells": [
  {
   "cell_type": "markdown",
   "metadata": {},
   "source": [
    "--- Day 3: Mull It Over ---\n",
    "\n",
    "\"Our computers are having issues, so I have no idea if we have any Chief Historians in stock! You're welcome to check the warehouse, though,\" says the mildly flustered shopkeeper at the North Pole Toboggan Rental Shop. The Historians head out to take a look.\n",
    "\n",
    "The shopkeeper turns to you. \"Any chance you can see why our computers are having issues again?\"\n",
    "\n",
    "The computer appears to be trying to run a program, but its memory (your puzzle input) is corrupted. All of the instructions have been jumbled up!\n",
    "\n",
    "It seems like the goal of the program is just to multiply some numbers. It does that with instructions like mul(X,Y), where X and Y are each 1-3 digit numbers. For instance, mul(44,46) multiplies 44 by 46 to get a result of 2024. Similarly, mul(123,4) would multiply 123 by 4.\n",
    "\n",
    "However, because the program's memory has been corrupted, there are also many invalid characters that should be ignored, even if they look like part of a mul instruction. Sequences like mul(4*, mul(6,9!, ?(12,34), or mul ( 2 , 4 ) do nothing.\n",
    "\n",
    "For example, consider the following section of corrupted memory:\n",
    "\n",
    "xmul(2,4)%&mul[3,7]!@^do_not_mul(5,5)+mul(32,64]then(mul(11,8)mul(8,5))\n",
    "Only the four highlighted sections are real mul instructions. Adding up the result of each instruction produces 161 (2*4 + 5*5 + 11*8 + 8*5).\n",
    "\n",
    "Scan the corrupted memory for uncorrupted mul instructions. What do you get if you add up all of the results of the multiplications?"
   ]
  },
  {
   "cell_type": "code",
   "execution_count": null,
   "metadata": {},
   "outputs": [
    {
     "name": "stdout",
     "output_type": "stream",
     "text": [
      "Part 1: 174960292\n"
     ]
    }
   ],
   "source": [
    "import re\n",
    "import sys\n",
    "from typing import Iterator\n",
    "\n",
    "with open(\"./input3.txt\") as f:\n",
    "    mem_dump = f.read()\n",
    "\n",
    "def find_muls(s: str) -> Iterator[tuple[int, int]]:\n",
    "    return ((int(a), int(b)) for a, b in re.findall(r'mul\\(([0-9]{1,3}),([0-9]{1,3})\\)', s))\n",
    "\n",
    "ans = sum(a * b for a, b in find_muls(mem_dump))\n",
    "print(f\"Part 1: {ans}\")"
   ]
  },
  {
   "cell_type": "markdown",
   "metadata": {},
   "source": [
    "--- Part Two ---\n",
    "\n",
    "As you scan through the corrupted memory, you notice that some of the conditional statements are also still intact. If you handle some of the uncorrupted conditional statements in the program, you might be able to get an even more accurate result.\n",
    "\n",
    "There are two new instructions you'll need to handle:\n",
    "\n",
    "The do() instruction enables future mul instructions.\n",
    "The don't() instruction disables future mul instructions.\n",
    "Only the most recent do() or don't() instruction applies. At the beginning of the program, mul instructions are enabled.\n",
    "\n",
    "For example:\n",
    "\n",
    "xmul(2,4)&mul[3,7]!^don't()_mul(5,5)+mul(32,64](mul(11,8)undo()?mul(8,5))\n",
    "This corrupted memory is similar to the example from before, but this time the mul(5,5) and mul(11,8) instructions are disabled because there is a don't() instruction before them. The other mul instructions function normally, including the one at the end that gets re-enabled by a do() instruction.\n",
    "\n",
    "This time, the sum of the results is 48 (2*4 + 8*5).\n",
    "\n",
    "Handle the new instructions; what do you get if you add up all of the results of just the enabled multiplications?"
   ]
  },
  {
   "cell_type": "code",
   "execution_count": 6,
   "metadata": {},
   "outputs": [
    {
     "name": "stdout",
     "output_type": "stream",
     "text": [
      "Part 2: 56275602\n"
     ]
    }
   ],
   "source": [
    "def find_do_dont_muls(s: str) -> Iterator[tuple[int, int]]:\n",
    "    enabled = True\n",
    "    for a, b, instruction in re.findall(r'mul\\(([0-9]{1,3}),([0-9]{1,3})\\)|(do(?:n\\'t)?)\\(\\)', s):\n",
    "        if instruction == \"do\":\n",
    "            enabled = True\n",
    "        elif instruction == \"don't\":\n",
    "            enabled = False\n",
    "        elif enabled:\n",
    "            yield int(a), int(b)\n",
    "\n",
    "ans2 = sum(a * b for a, b in find_do_dont_muls(mem_dump))\n",
    "print(f\"Part 2: {ans2}\")\n"
   ]
  }
 ],
 "metadata": {
  "kernelspec": {
   "display_name": ".venv",
   "language": "python",
   "name": "python3"
  },
  "language_info": {
   "codemirror_mode": {
    "name": "ipython",
    "version": 3
   },
   "file_extension": ".py",
   "mimetype": "text/x-python",
   "name": "python",
   "nbconvert_exporter": "python",
   "pygments_lexer": "ipython3",
   "version": "3.11.10"
  }
 },
 "nbformat": 4,
 "nbformat_minor": 2
}
