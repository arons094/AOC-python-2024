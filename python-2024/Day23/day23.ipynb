{
 "cells": [
  {
   "cell_type": "code",
   "execution_count": 1,
   "metadata": {},
   "outputs": [
    {
     "name": "stdout",
     "output_type": "stream",
     "text": [
      "1411\n"
     ]
    }
   ],
   "source": [
    "from collections import defaultdict\n",
    "\n",
    "with open('input23.txt') as f:\n",
    "    connections = [line.split('-') for line in f.read().splitlines()]\n",
    "\n",
    "links = defaultdict(lambda:set())\n",
    "for start,end in connections:\n",
    "    links[start].add(end)\n",
    "    links[end].add(start)\n",
    "    \n",
    "possibilities = set()\n",
    "for c1 in links:\n",
    "    for c2 in links[c1]-{c1}:\n",
    "        for c3 in links[c2]-{c1,c2}:\n",
    "            if c1 in links[c3]:\n",
    "                possibilities.add(frozenset({c1,c2,c3}))\n",
    "                \n",
    "answer = len({triplet for triplet in possibilities if any(item.startswith('t') for item in triplet)})\n",
    "print(answer)"
   ]
  },
  {
   "cell_type": "code",
   "execution_count": 4,
   "metadata": {},
   "outputs": [
    {
     "name": "stdout",
     "output_type": "stream",
     "text": [
      "aq,bn,ch,dt,gu,ow,pk,qy,tv,us,yx,zg,zu\n"
     ]
    }
   ],
   "source": [
    "import networkx as nx\n",
    "\n",
    "with open('input23.txt') as f:\n",
    "    connections = [line.split('-') for line in f.read().splitlines()]\n",
    "    \n",
    "G = nx.Graph()\n",
    "for start,end in connections:\n",
    "    G.add_edge(start,end)\n",
    "cliques = list(nx.find_cliques(G))\n",
    "cliques = sorted(cliques,key=lambda item:len(item),reverse=True)\n",
    "biggest_clique = cliques[0]\n",
    "answer = ','.join(sorted(biggest_clique))\n",
    "print(answer)"
   ]
  },
  {
   "cell_type": "code",
   "execution_count": 14,
   "metadata": {},
   "outputs": [
    {
     "name": "stdout",
     "output_type": "stream",
     "text": [
      "Part1: 1411, Part2: aq,bn,ch,dt,gu,ow,pk,qy,tv,us,yx,zg,zu\n"
     ]
    }
   ],
   "source": [
    "import networkx as nx\n",
    "\n",
    "with open('input23.txt') as f:\n",
    "    connections = [line.split('-') for line in f.read().splitlines()]\n",
    "\n",
    "G = nx.Graph()\n",
    "for start,end in connections:\n",
    "    G.add_edge(start,end)\n",
    "cliques = [clique for clique in nx.enumerate_all_cliques(G)]\n",
    "ans = len([clique for clique in cliques if len(clique) == 3 and any(node.startswith('t') for node in clique)])\n",
    "ans2 = ','.join(sorted(cliques[-1]))\n",
    "print(f\"Part1: {ans}, Part2: {ans2}\")"
   ]
  },
  {
   "cell_type": "code",
   "execution_count": 3,
   "metadata": {},
   "outputs": [
    {
     "name": "stdout",
     "output_type": "stream",
     "text": [
      "Collecting networkx\n",
      "  Downloading networkx-3.4.2-py3-none-any.whl.metadata (6.3 kB)\n",
      "Downloading networkx-3.4.2-py3-none-any.whl (1.7 MB)\n",
      "\u001b[2K   \u001b[90m━━━━━━━━━━━━━━━━━━━━━━━━━━━━━━━━━━━━━━━━\u001b[0m \u001b[32m1.7/1.7 MB\u001b[0m \u001b[31m1.9 MB/s\u001b[0m eta \u001b[36m0:00:00\u001b[0ma \u001b[36m0:00:01\u001b[0m\n",
      "\u001b[?25hInstalling collected packages: networkx\n",
      "Successfully installed networkx-3.4.2\n",
      "Note: you may need to restart the kernel to use updated packages.\n"
     ]
    }
   ],
   "source": [
    "%pip install networkx"
   ]
  },
  {
   "cell_type": "code",
   "execution_count": null,
   "metadata": {},
   "outputs": [],
   "source": []
  }
 ],
 "metadata": {
  "kernelspec": {
   "display_name": "Python 3",
   "language": "python",
   "name": "python3"
  },
  "language_info": {
   "codemirror_mode": {
    "name": "ipython",
    "version": 3
   },
   "file_extension": ".py",
   "mimetype": "text/x-python",
   "name": "python",
   "nbconvert_exporter": "python",
   "pygments_lexer": "ipython3",
   "version": "3.11.8"
  }
 },
 "nbformat": 4,
 "nbformat_minor": 2
}
