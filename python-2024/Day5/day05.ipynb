{
 "cells": [
  {
   "cell_type": "markdown",
   "metadata": {},
   "source": [
    "--- Day 5: Print Queue ---\n",
    "\n",
    "Satisfied with their search on Ceres, the squadron of scholars suggests subsequently scanning the stationery stacks of sub-basement 17.\n",
    "\n",
    "The North Pole printing department is busier than ever this close to Christmas, and while The Historians continue their search of this historically significant facility, an Elf operating a very familiar printer beckons you over.\n",
    "\n",
    "The Elf must recognize you, because they waste no time explaining that the new sleigh launch safety manual updates won't print correctly. Failure to update the safety manuals would be dire indeed, so you offer your services.\n",
    "\n",
    "Safety protocols clearly indicate that new pages for the safety manuals must be printed in a very specific order. The notation X|Y means that if both page number X and page number Y are to be produced as part of an update, page number X must be printed at some point before page number Y.\n",
    "\n",
    "The Elf has for you both the page ordering rules and the pages to produce in each update (your puzzle input), but can't figure out whether each update has the pages in the right order.\n",
    "\n",
    "For example:\n",
    "```\n",
    "47|53\n",
    "97|13\n",
    "97|61\n",
    "97|47\n",
    "75|29\n",
    "61|13\n",
    "75|53\n",
    "29|13\n",
    "97|29\n",
    "53|29\n",
    "61|53\n",
    "97|53\n",
    "61|29\n",
    "47|13\n",
    "75|47\n",
    "97|75\n",
    "47|61\n",
    "75|61\n",
    "47|29\n",
    "75|13\n",
    "53|13\n",
    "\n",
    "\n",
    "75,47,61,53,29\n",
    "97,61,53,29,13\n",
    "75,29,13\n",
    "75,97,47,61,53\n",
    "61,13,29\n",
    "97,13,75,29,47\n",
    "```\n",
    "\n",
    "The first section specifies the page ordering rules, one per line. The first rule, 47|53, means that if an update includes both page number 47 and page number 53, then page number 47 must be printed at some point before page number 53. (47 doesn't necessarily need to be immediately before 53; other pages are allowed to be between them.)\n",
    "\n",
    "The second section specifies the page numbers of each update. Because most safety manuals are different, the pages needed in the updates are different too. The first update, 75,47,61,53,29, means that the update consists of page numbers 75, 47, 61, 53, and 29.\n",
    "\n",
    "To get the printers going as soon as possible, start by identifying which updates are already in the right order.\n",
    "\n",
    "In the above example, the first update (75,47,61,53,29) is in the right order:\n",
    "\n",
    "75 is correctly first because there are rules that put each other page after it: 75|47, 75|61, 75|53, and 75|29.\n",
    "47 is correctly second because 75 must be before it (75|47) and every other page must be after it according to 47|61, 47|53, and 47|29.\n",
    "61 is correctly in the middle because 75 and 47 are before it (75|61 and 47|61) and 53 and 29 are after it (61|53 and 61|29).\n",
    "53 is correctly fourth because it is before page number 29 (53|29).\n",
    "29 is the only page left and so is correctly last.\n",
    "Because the first update does not include some page numbers, the ordering rules involving those missing page numbers are ignored.\n",
    "\n",
    "The second and third updates are also in the correct order according to the rules. Like the first update, they also do not include every page number, and so only some of the ordering rules apply - within each update, the ordering rules that involve missing page numbers are not used.\n",
    "\n",
    "The fourth update, 75,97,47,61,53, is not in the correct order: it would print 75 before 97, which violates the rule 97|75.\n",
    "\n",
    "The fifth update, 61,13,29, is also not in the correct order, since it breaks the rule 29|13.\n",
    "\n",
    "The last update, 97,13,75,29,47, is not in the correct order due to breaking several rules.\n",
    "\n",
    "For some reason, the Elves also need to know the middle page number of each update being printed. Because you are currently only printing the correctly-ordered updates, you will need to find the middle page number of each correctly-ordered update. In the above example, the correctly-ordered updates are:\n",
    "\n",
    "75,47,61,53,29\n",
    "97,61,53,29,13\n",
    "75,29,13\n",
    "These have middle page numbers of 61, 53, and 29 respectively. Adding these page numbers together gives 143.\n",
    "\n",
    "Of course, you'll need to be careful: the actual list of page ordering rules is bigger and more complicated than the above example.\n",
    "\n",
    "Determine which updates are already in the correct order. What do you get if you add up the middle page number from those correctly-ordered updates?"
   ]
  },
  {
   "cell_type": "code",
   "execution_count": 4,
   "metadata": {},
   "outputs": [
    {
     "name": "stdout",
     "output_type": "stream",
     "text": [
      "Part 1: 4959\n"
     ]
    }
   ],
   "source": [
    "from collections import defaultdict\n",
    "\n",
    "with open(\"input5.txt\", \"r\") as input_file:\n",
    "    raw_rules, raw_updates = input_file.read().split(\"\\n\\n\")\n",
    "    rules = [[int(num) for num in row.split(\"|\")] for row in raw_rules.split()]\n",
    "    updates = [[int(num) for num in row.split(\",\")] for row in raw_updates.split()]\n",
    "\n",
    "\n",
    "after = defaultdict(set)\n",
    "for first, second in rules:\n",
    "    after[first].add(second)\n",
    "\n",
    "\n",
    "def check_update(update, after):\n",
    "    for i, page in enumerate(update):\n",
    "        if set(update[i + 1 :]) - after[page]:\n",
    "            return False\n",
    "    return True\n",
    "\n",
    "\n",
    "def correct_update(update, after):\n",
    "    correct_order = []\n",
    "    while update:\n",
    "        for i, page in enumerate(update):\n",
    "            if after[page] >= set(update) - {page}:\n",
    "                correct_order.append(update.pop(i))\n",
    "    return correct_order\n",
    "\n",
    "\n",
    "ans = sum(update[len(update) // 2] for update in updates if check_update(update, after))\n",
    "print(f\"Part 1: {ans}\")\n",
    "\n"
   ]
  },
  {
   "cell_type": "markdown",
   "metadata": {},
   "source": [
    "--- Part Two ---\n",
    "\n",
    "While the Elves get to work printing the correctly-ordered updates, you have a little time to fix the rest of them.\n",
    "\n",
    "For each of the incorrectly-ordered updates, use the page ordering rules to put the page numbers in the right order. For the above example, here are the three incorrectly-ordered updates and their correct orderings:\n",
    "\n",
    "75,97,47,61,53 becomes 97,75,47,61,53.\n",
    "\n",
    "61,13,29 becomes 61,29,13.\n",
    "\n",
    "97,13,75,29,47 becomes 97,75,47,29,13.\n",
    "\n",
    "After taking only the incorrectly-ordered updates and ordering them correctly, their middle page numbers are 47, 29, and 47. Adding these together produces 123.\n",
    "\n",
    "Find the updates which are not in the correct order. What do you get if you add up the middle page numbers after correctly ordering just those updates?"
   ]
  },
  {
   "cell_type": "code",
   "execution_count": 5,
   "metadata": {},
   "outputs": [
    {
     "name": "stdout",
     "output_type": "stream",
     "text": [
      "Part 2: 4655\n"
     ]
    }
   ],
   "source": [
    "incorrect_updates = [update for update in updates if not check_update(update, after)]\n",
    "corrected = [correct_update(update, after) for update in incorrect_updates]\n",
    "ans2 = sum(update[len(update) // 2] for update in corrected)\n",
    "print(f\"Part 2: {ans2}\")"
   ]
  },
  {
   "cell_type": "code",
   "execution_count": null,
   "metadata": {},
   "outputs": [],
   "source": []
  }
 ],
 "metadata": {
  "kernelspec": {
   "display_name": "Python 3",
   "language": "python",
   "name": "python3"
  },
  "language_info": {
   "codemirror_mode": {
    "name": "ipython",
    "version": 3
   },
   "file_extension": ".py",
   "mimetype": "text/x-python",
   "name": "python",
   "nbconvert_exporter": "python",
   "pygments_lexer": "ipython3",
   "version": "3.11.8"
  }
 },
 "nbformat": 4,
 "nbformat_minor": 2
}
