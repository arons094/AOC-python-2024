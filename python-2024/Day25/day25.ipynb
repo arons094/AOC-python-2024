{
 "cells": [
  {
   "cell_type": "code",
   "execution_count": null,
   "metadata": {},
   "outputs": [
    {
     "name": "stdout",
     "output_type": "stream",
     "text": [
      "Part1: 3249\n"
     ]
    }
   ],
   "source": [
    "import numpy as np\n",
    "from itertools import product\n",
    "\n",
    "with open(\"input25.txt\", \"r\") as f:\n",
    "    data = f.read().strip().split(\"\\n\\n\")\n",
    "\n",
    "all_keys_locks = [[[char for char in line] for line in chunk.split(\"\\n\")] for chunk in data]\n",
    "keys = [chunk for chunk in all_keys_locks if all(char == \"#\" for char in chunk[0])]\n",
    "locks = [chunk for chunk in all_keys_locks if all(char == \"#\" for char in chunk[-1])]\n",
    "\n",
    "def count_hashes(matrix):\n",
    "    return np.sum(np.array(matrix) == \"#\", axis=0)\n",
    "\n",
    "keys_heights = [count_hashes(key) for key in keys]\n",
    "locks_heights = [count_hashes(lock) for lock in locks]\n",
    "height = len(all_keys_locks[0])\n",
    "fits = [\n",
    "    (key, lock)\n",
    "    for key, lock in product(keys_heights, locks_heights)\n",
    "    if all(key[i] + lock[i] <= height for i in range(len(key)))\n",
    "]\n",
    "\n",
    "print(f\"Part1: {len(fits)}\")"
   ]
  },
  {
   "cell_type": "code",
   "execution_count": null,
   "metadata": {},
   "outputs": [],
   "source": [
    "from itertools import product\n",
    "import numpy as np\n",
    "def count_hashes(matrix):\n",
    "    return np.sum(np.array(matrix) == \"#\", axis=0)\n",
    "\n",
    "fits = [\n",
    "    (key, lock)\n",
    "    for key, lock in product(keys_heights, locks_heights)\n",
    "    if all(key[i] + lock[i] <= height for i in range(len(key)))\n",
    "]\n",
    "\n",
    "print(f\"Part1: {len(fits)}\")\n"
   ]
  }
 ],
 "metadata": {
  "kernelspec": {
   "display_name": "Python 3",
   "language": "python",
   "name": "python3"
  },
  "language_info": {
   "codemirror_mode": {
    "name": "ipython",
    "version": 3
   },
   "file_extension": ".py",
   "mimetype": "text/x-python",
   "name": "python",
   "nbconvert_exporter": "python",
   "pygments_lexer": "ipython3",
   "version": "3.11.8"
  }
 },
 "nbformat": 4,
 "nbformat_minor": 2
}
