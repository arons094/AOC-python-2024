{
 "cells": [
  {
   "cell_type": "code",
   "execution_count": 17,
   "metadata": {},
   "outputs": [
    {
     "name": "stdout",
     "output_type": "stream",
     "text": [
      "37901\n"
     ]
    }
   ],
   "source": [
    "import re, z3\n",
    "\n",
    "Part2 = False\n",
    "games = []\n",
    "with open(\"input13.txt\") as f:\n",
    "    data = f.read().strip().split(\"\\n\\n\")\n",
    "    for chunk in data:\n",
    "        for line in chunk.split(\"\\n\"):\n",
    "            if \"Button A\" in line:\n",
    "                ax, ay = list(map(int, re.findall(r\"\\d+\", line)))\n",
    "            elif \"Button B\" in line:\n",
    "                bx, by = list(map(int, re.findall(r\"\\d+\", line)))\n",
    "            elif \"Prize\" in line:\n",
    "                px, py = list(map(int, re.findall(r\"\\d+\", line)))\n",
    "        games.append((ax, ay, bx, by, px, py))\n",
    "\n",
    "toks = 0\n",
    "for ax, ay, bx, by, px, py in games:\n",
    "    if Part2:\n",
    "        px += 10000000000000\n",
    "        py += 10000000000000\n",
    "    a, b = z3.Ints( \"a b\" )\n",
    "    solv = z3.Optimize()\n",
    "    solv.add( [ a * ax + b * bx == px,\n",
    "             a * ay + b * by == py,\n",
    "             a >= 0, b >= 0 ] )\n",
    "    solv.minimize( 3 * a + 1 * b )\n",
    "    if solv.check() == z3.sat:\n",
    "        m = solv.model()\n",
    "        toks += 3 * m[a].as_long() + 1 * m[b].as_long()\n",
    "print(toks)"
   ]
  },
  {
   "cell_type": "code",
   "execution_count": null,
   "metadata": {},
   "outputs": [],
   "source": []
  }
 ],
 "metadata": {
  "kernelspec": {
   "display_name": ".venv",
   "language": "python",
   "name": "python3"
  },
  "language_info": {
   "codemirror_mode": {
    "name": "ipython",
    "version": 3
   },
   "file_extension": ".py",
   "mimetype": "text/x-python",
   "name": "python",
   "nbconvert_exporter": "python",
   "pygments_lexer": "ipython3",
   "version": "3.11.10"
  }
 },
 "nbformat": 4,
 "nbformat_minor": 2
}
